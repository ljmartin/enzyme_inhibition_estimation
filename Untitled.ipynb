{
 "cells": [
  {
   "cell_type": "markdown",
   "metadata": {},
   "source": [
    "# Project description\n",
    "You can estimate Ki without signing up to graphpad\n"
   ]
  },
  {
   "cell_type": "code",
   "execution_count": 48,
   "metadata": {},
   "outputs": [],
   "source": [
    "import pymc3 as pm\n",
    "import pandas as pd\n",
    "import matplotlib.pyplot as plt\n",
    "import numpy as np"
   ]
  },
  {
   "cell_type": "code",
   "execution_count": 69,
   "metadata": {},
   "outputs": [],
   "source": [
    "i_conc = list()\n",
    "veloc = list()\n",
    "s_conc = list()\n",
    "\n",
    "df = pd.read_csv('uncomp.csv', index_col=0)\n",
    "df = pd.read_csv('inosine_nucleosidase.csv', index_col=0)"
   ]
  },
  {
   "cell_type": "code",
   "execution_count": 70,
   "metadata": {},
   "outputs": [],
   "source": [
    "for i in df.columns:\n",
    "    for s,v in zip(df[i].index, df[i].values):\n",
    "        i_conc.append(float(i))\n",
    "        veloc.append(v)\n",
    "        s_conc.append(s)\n",
    "        \n",
    "i_conc = np.array(i_conc)\n",
    "veloc = np.array(veloc)\n",
    "s_conc = np.array(s_conc)"
   ]
  },
  {
   "cell_type": "code",
   "execution_count": 71,
   "metadata": {},
   "outputs": [
    {
     "data": {
      "text/plain": [
       "<matplotlib.collections.PathCollection at 0x7fda4458a850>"
      ]
     },
     "execution_count": 71,
     "metadata": {},
     "output_type": "execute_result"
    },
    {
     "data": {
      "image/png": "[encoded data removed]",
      "text/plain": [
       "<Figure size 432x288 with 1 Axes>"
      ]
     },
     "metadata": {
      "needs_background": "light"
     },
     "output_type": "display_data"
    }
   ],
   "source": [
    "plt.scatter(s_conc, veloc, c=i_conc)"
   ]
  },
  {
   "cell_type": "code",
   "execution_count": 73,
   "metadata": {},
   "outputs": [
    {
     "name": "stderr",
     "output_type": "stream",
     "text": [
      "Auto-assigning NUTS sampler...\n",
      "Initializing NUTS using jitter+adapt_diag...\n",
      "Multiprocess sampling (2 chains in 2 jobs)\n",
      "NUTS: [sigma, pKi, pKm, pVmax]\n"
     ]
    },
    {
     "data": {
      "text/html": [
       "\n",
       "    <div>\n",
       "        <style>\n",
       "            /* Turns off some styling */\n",
       "            progress {\n",
       "                /* gets rid of default border in Firefox and Opera. */\n",
       "                border: none;\n",
       "                /* Needs to be in here for Safari polyfill so background images work as expected. */\n",
       "                background-size: auto;\n",
       "            }\n",
       "            .progress-bar-interrupted, .progress-bar-interrupted::-webkit-progress-bar {\n",
       "                background: #F44336;\n",
       "            }\n",
       "        </style>\n",
       "      <progress value='14000' class='' max='14000' style='width:300px; height:20px; vertical-align: middle;'></progress>\n",
       "      100.00% [14000/14000 00:29<00:00 Sampling 2 chains, 56 divergences]\n",
       "    </div>\n",
       "    "
      ],
      "text/plain": [
       "<IPython.core.display.HTML object>"
      ]
     },
     "metadata": {},
     "output_type": "display_data"
    },
    {
     "name": "stderr",
     "output_type": "stream",
     "text": [
      "Sampling 2 chains for 2_000 tune and 5_000 draw iterations (4_000 + 10_000 draws total) took 41 seconds.\n",
      "There were 31 divergences after tuning. Increase `target_accept` or reparameterize.\n",
      "There were 25 divergences after tuning. Increase `target_accept` or reparameterize.\n",
      "The number of effective samples is smaller than 25% for some parameters.\n"
     ]
    }
   ],
   "source": [
    "competitive_model = pm.Model()\n",
    "\n",
    "s_dep_ = s_conc*1e-6\n",
    "i_dep_ = i_conc*1e-6\n",
    "\n",
    "\n",
    "with competitive_model:\n",
    "    # parameters we want to estimate\n",
    "    pVmax_est = pm.Normal('pVmax', mu=5, sigma=5)\n",
    "    pKm_est = pm.Normal('pKm', mu = 5, sigma=5)\n",
    "    pKi_est = pm.Normal('pKi', mu = 5, sigma=5)\n",
    "    #palpha = pm.Normal('pa', mu=0, sigma=2)\n",
    "    \n",
    "    Km_est = 10**(-1*pKm_est)\n",
    "    Ki_est = 10**(-1*pKi_est)\n",
    "    Vmax_est = 10**(-1*pVmax_est)\n",
    "    \n",
    "    # the michaelis menten equation:\n",
    "    v_est = Vmax_est * s_dep_  /  ( s_dep_ + Km_est * ( 1 + i_dep_ / Ki_est ) )\n",
    "\n",
    "    # add the noise:\n",
    "    est_sigma = pm.HalfNormal('sigma', 5)\n",
    "    #est_sigma = pm.Uniform('sigma', 0, 1)\n",
    "    \n",
    "    # our likelihood where we add our observed data\n",
    "    likelihood = pm.Normal('L', mu=v_est, sd=est_sigma, observed=veloc)\n",
    "    \n",
    "    # sampling\n",
    "    #start = pm.find_MAP()\n",
    "    trace_competitive = pm.sample(5000, tune=2000)"
   ]
  },
  {
   "cell_type": "code",
   "execution_count": 74,
   "metadata": {},
   "outputs": [
    {
     "name": "stderr",
     "output_type": "stream",
     "text": [
      "Auto-assigning NUTS sampler...\n",
      "Initializing NUTS using jitter+adapt_diag...\n",
      "Multiprocess sampling (2 chains in 2 jobs)\n",
      "NUTS: [sigma, alpha, pKi, pKm, pVmax]\n"
     ]
    },
    {
     "data": {
      "text/html": [
       "\n",
       "    <div>\n",
       "        <style>\n",
       "            /* Turns off some styling */\n",
       "            progress {\n",
       "                /* gets rid of default border in Firefox and Opera. */\n",
       "                border: none;\n",
       "                /* Needs to be in here for Safari polyfill so background images work as expected. */\n",
       "                background-size: auto;\n",
       "            }\n",
       "            .progress-bar-interrupted, .progress-bar-interrupted::-webkit-progress-bar {\n",
       "                background: #F44336;\n",
       "            }\n",
       "        </style>\n",
       "      <progress value='14000' class='' max='14000' style='width:300px; height:20px; vertical-align: middle;'></progress>\n",
       "      100.00% [14000/14000 02:05<00:00 Sampling 2 chains, 2,152 divergences]\n",
       "    </div>\n",
       "    "
      ],
      "text/plain": [
       "<IPython.core.display.HTML object>"
      ]
     },
     "metadata": {},
     "output_type": "display_data"
    },
    {
     "name": "stderr",
     "output_type": "stream",
     "text": [
      "Sampling 2 chains for 2_000 tune and 5_000 draw iterations (4_000 + 10_000 draws total) took 132 seconds.\n",
      "There were 1926 divergences after tuning. Increase `target_accept` or reparameterize.\n",
      "The acceptance probability does not match the target. It is 0.37843084874024335, but should be close to 0.8. Try to increase the number of tuning steps.\n",
      "There were 226 divergences after tuning. Increase `target_accept` or reparameterize.\n",
      "The rhat statistic is larger than 1.4 for some parameters. The sampler did not converge.\n",
      "The estimated number of effective samples is smaller than 200 for some parameters.\n"
     ]
    }
   ],
   "source": [
    "noncompetitive_model = pm.Model()\n",
    "\n",
    "with noncompetitive_model:\n",
    "    # parameters we want to estimate\n",
    "    pVmax_est = pm.Normal('pVmax', mu=5, sigma=5)\n",
    "    pKm_est = pm.Normal('pKm', mu = 5, sigma=5)\n",
    "    pKi_est = pm.Normal('pKi', mu = 5, sigma=5)\n",
    "    alpha = pm.Lognormal('alpha', mu=0, sigma=2)\n",
    "    #palpha = pm.Normal('pa', mu=0, sigma=2)\n",
    "    \n",
    "    Km_est = 10**(-1*pKm_est)\n",
    "    Ki_est = 10**(-1*pKi_est)\n",
    "    #alpha = 10**(-1*palpha)\n",
    "    Vmax_est = 10**(-1*pVmax_est)\n",
    "    \n",
    "    # the michaelis menten equation:\n",
    "    v_est = Vmax_est * s_dep_  /  ( s_dep_ * ( 1 + i_dep_ / (alpha*Ki_est) ) + Km_est * ( 1 + i_dep_ / Ki_est ) )\n",
    "\n",
    "    # add the noise:\n",
    "    est_sigma = pm.HalfNormal('sigma', 5)\n",
    "    \n",
    "    # our likelihood where we add our observed data\n",
    "    likelihood = pm.Normal('L', mu=v_est, sd=est_sigma, observed=veloc)\n",
    "    \n",
    "    # sampling\n",
    "    #start = pm.find_MAP()\n",
    "    trace_noncompetitive = pm.sample(5000, tune=2000)"
   ]
  },
  {
   "cell_type": "code",
   "execution_count": null,
   "metadata": {},
   "outputs": [],
   "source": [
    "competitive_model.name='Competitive'\n",
    "noncompetitive_model.name='NonCompetitive'\n",
    "df_comp_WAIC = pm.compare({competitive_model: trace_competitive, noncompetitive_model: trace_noncompetitive})\n",
    "df_comp_WAIC"
   ]
  }
 ],
 "metadata": {
  "kernelspec": {
   "display_name": "Python 3",
   "language": "python",
   "name": "python3"
  },
  "language_info": {
   "codemirror_mode": {
    "name": "ipython",
    "version": 3
   },
   "file_extension": ".py",
   "mimetype": "text/x-python",
   "name": "python",
   "nbconvert_exporter": "python",
   "pygments_lexer": "ipython3",
   "version": "3.7.8"
  }
 },
 "nbformat": 4,
 "nbformat_minor": 4
}
